{
 "cells": [
  {
   "cell_type": "markdown",
   "id": "5564c727",
   "metadata": {},
   "source": [
    "# Program Overview\n",
    "\n",
    "The purpose of this notebook is to acquire the raw data necessary to analyze monthly article traffic from English Wikipedia articles published 07-01-2015 through 09-30-2023.\n",
    "\n",
    "The source data uses the following license:\n",
    "**EKRC INSERT LICENSE HERE\n",
    "\n",
    "We also use the Wikimedia Foundation REST API which has the following\n",
    "terms of use:\n",
    "https://www.mediawiki.org/wiki/REST_API#Terms_and_conditions\n",
    "\n",
    "The Pageviews API documentation can be found at the following link:\n",
    "https://wikitech.wikimedia.org/wiki/Analytics/AQS/Pageviews\n",
    "\n",
    "We will leverage code developed by Dr. David W. McDonald for use in Data 512  which is provided under Creative Commons CC-BY license. (https://creativecommons.org/ and https://creativecommons.org/licenses/by/4.0/)\n",
    "\n",
    "Additionally, we will be using a list of Academy Award winning article titles provided by Dr. McDonald. A link to the list can be found here: https://drive.google.com/drive/folders/1lPJF73GX5Vyu2uAvT5VpAY-xGwP2fCCx"
   ]
  },
  {
   "cell_type": "markdown",
   "id": "4678c562",
   "metadata": {},
   "source": [
    "Things to do:\n",
    "    1. remove the \"Access\" fields from all of the dictionaries\n",
    "    2. Combine the mobile files to make the mobile file\n",
    "    3. Combine the mobile and desktop files to make the cumulative file"
   ]
  }
 ],
 "metadata": {
  "kernelspec": {
   "display_name": "Python 3 (ipykernel)",
   "language": "python",
   "name": "python3"
  },
  "language_info": {
   "codemirror_mode": {
    "name": "ipython",
    "version": 3
   },
   "file_extension": ".py",
   "mimetype": "text/x-python",
   "name": "python",
   "nbconvert_exporter": "python",
   "pygments_lexer": "ipython3",
   "version": "3.9.12"
  }
 },
 "nbformat": 4,
 "nbformat_minor": 5
}
