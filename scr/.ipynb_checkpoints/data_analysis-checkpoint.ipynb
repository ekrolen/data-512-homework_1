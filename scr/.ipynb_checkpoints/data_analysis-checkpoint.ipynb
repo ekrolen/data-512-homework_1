{
 "cells": [
  {
   "cell_type": "markdown",
   "id": "e7ac1cf8",
   "metadata": {},
   "source": [
    "# Program Overview\n",
    "\n",
    "The purpose of this notebook is to analyze monthly article traffic from English Wikipedia articles published 07-01-2015 through 09-30-2023. Specifically, we will be producing graphs for articles with the:\n",
    "    Highest and lowest average monthly view rates for both desktop and mobile\n",
    "    Top 10 peak page views for both desktop and mobile access\n",
    "    Fewest months of data for recent award winners on both mobile and desktop\n",
    "\n",
    "The source data uses the following license:\n",
    "**EKRC INSERT LICENSE HERE\n",
    "\n",
    "We begin by loading common python libraries. Note, the plotly visualization saving requires kaleido, which the user may need to install."
   ]
  },
  {
   "cell_type": "code",
   "execution_count": 2,
   "id": "b5f64228",
   "metadata": {},
   "outputs": [],
   "source": [
    "#Import python libraries\n",
    "import json\n",
    "from datetime import datetime\n",
    "import urllib.parse\n",
    "import requests\n",
    "import pandas as pd\n",
    "import plotly.express as px"
   ]
  },
  {
   "cell_type": "markdown",
   "id": "ecb27d88",
   "metadata": {},
   "source": [
    "### Maximum Average and Minimum Average\n",
    "\n",
    "The following sections of code will find the max and min average pageviews per month for mobile and desktop articles. We will begin by loading in the mobile and desktop files from the clean_data folder as dictionaries."
   ]
  },
  {
   "cell_type": "code",
   "execution_count": 3,
   "id": "37d22af7",
   "metadata": {},
   "outputs": [],
   "source": [
    "#Loading in desktop and mobile files\n",
    "mobile_file = open(\"../clean_data/academy_monthly_mobile_201507-202309.json\")\n",
    "desktop_file = open(\"../clean_data/academy_monthly_desktop_201507-202309.json\")\n",
    "\n",
    "#Turn files into dicts\n",
    "mobile_dict = json.load(mobile_file)\n",
    "desktop_dict = json.load(desktop_file)"
   ]
  },
  {
   "cell_type": "markdown",
   "id": "c41f11b2",
   "metadata": {},
   "source": [
    "Given we must repeat the process on both desktop and mobile articles we create a function which can be reused to generate a list of article titles and a separate list of average monthly pageviews. By identifying the max and min pageviews' indices, one can also find the articles with the max and min pageviews respectively."
   ]
  },
  {
   "cell_type": "code",
   "execution_count": 4,
   "id": "081e4d33",
   "metadata": {},
   "outputs": [],
   "source": [
    "#Creating function to return article name w/ max average monthly pageviews\n",
    "#and article name with min monthly pageviews\n",
    "\n",
    "def min_max_articles(dict_file):\n",
    "    #Finding the average pageviews per month & adding to list\n",
    "    article_list = list(dict_file.keys())\n",
    "    avg_monthly_views = []\n",
    "    for key in article_list:\n",
    "        num_months = 0\n",
    "        tot_views = 0\n",
    "        for month in dict_file[key]:\n",
    "            num_months = num_months + 1\n",
    "            tot_views = tot_views + month['views']\n",
    "        avg_monthly_views.append(tot_views/num_months)\n",
    "    #Getting the index of the max and min pageviews\n",
    "    min_views = min(avg_monthly_views)\n",
    "    max_views = max(avg_monthly_views)\n",
    "    min_index = avg_monthly_views.index(min_views)\n",
    "    max_index = avg_monthly_views.index(max_views)\n",
    "    #Getting the name of the max and min articles\n",
    "    min_article = article_list[min_index]\n",
    "    max_article = article_list[max_index]\n",
    "    return min_article, max_article\n",
    "\n",
    "#Use the following line to test if the method is working\n",
    "#min_name, max_name= min_max_articles(mobile_dict)\n",
    "#print(min_name, max_name)"
   ]
  },
  {
   "cell_type": "markdown",
   "id": "40bc0b57",
   "metadata": {},
   "source": [
    "Next, we will create a function to return a dataframe with the timeseries data for the articles with the min and max monthly views from a single datasource."
   ]
  },
  {
   "cell_type": "code",
   "execution_count": 5,
   "id": "61441f0b",
   "metadata": {},
   "outputs": [
    {
     "data": {
      "text/plain": [
       "'mobile_df = min_max_timeseries(mobile_dict, min_name, max_name, \"mobile\")\\nmobile_df'"
      ]
     },
     "execution_count": 5,
     "metadata": {},
     "output_type": "execute_result"
    }
   ],
   "source": [
    "#Creating function to return timeseries information with monthly pageviews\n",
    "#for min and max avg. pageviews articles\n",
    "\n",
    "def min_max_timeseries(dict_file, min_name, max_name, access_format):\n",
    "    timeseries_list = []\n",
    "    for month in dict_file[min_name]:        \n",
    "        raw_time = month['timestamp']\n",
    "        format_time = datetime.strptime(raw_time, '%Y%m%d%H').strftime('%Y-%m')\n",
    "        timeseries_list.append([min_name,\"min \"+access_format,\n",
    "                             format_time, month['views']])\n",
    "    for month in dict_file[max_name]:\n",
    "        raw_time = month['timestamp']\n",
    "        format_time = datetime.strptime(raw_time, '%Y%m%d%H').strftime('%Y-%m')\n",
    "        timeseries_list.append([max_name,\"max \"+access_format,\n",
    "                             format_time, month['views']])\n",
    "    timeseries_df = pd.DataFrame(timeseries_list)\n",
    "    timeseries_df.columns = ['article_title', 'kind', 'date', 'pageviews']\n",
    "    return timeseries_df\n",
    "\n",
    "#Use the following line to test if the method is working\n",
    "'''mobile_df = min_max_timeseries(mobile_dict, min_name, max_name, \"mobile\")\n",
    "mobile_df'''"
   ]
  },
  {
   "cell_type": "markdown",
   "id": "21b86c47",
   "metadata": {},
   "source": [
    "Now that we've created the two fuctions above, we will use them to pull the min and max names from the desktop and mobile datasources respectively. We will then use those names to generate two dataframes with timeseries data, and combine the data into a single timeseries for later graphing."
   ]
  },
  {
   "cell_type": "code",
   "execution_count": 6,
   "id": "2e623f82",
   "metadata": {},
   "outputs": [
    {
     "data": {
      "text/html": [
       "<div>\n",
       "<style scoped>\n",
       "    .dataframe tbody tr th:only-of-type {\n",
       "        vertical-align: middle;\n",
       "    }\n",
       "\n",
       "    .dataframe tbody tr th {\n",
       "        vertical-align: top;\n",
       "    }\n",
       "\n",
       "    .dataframe thead th {\n",
       "        text-align: right;\n",
       "    }\n",
       "</style>\n",
       "<table border=\"1\" class=\"dataframe\">\n",
       "  <thead>\n",
       "    <tr style=\"text-align: right;\">\n",
       "      <th></th>\n",
       "      <th>article_title</th>\n",
       "      <th>kind</th>\n",
       "      <th>date</th>\n",
       "      <th>pageviews</th>\n",
       "    </tr>\n",
       "  </thead>\n",
       "  <tbody>\n",
       "    <tr>\n",
       "      <th>0</th>\n",
       "      <td>Project Hope (film)</td>\n",
       "      <td>min desktop</td>\n",
       "      <td>2015-07</td>\n",
       "      <td>56</td>\n",
       "    </tr>\n",
       "    <tr>\n",
       "      <th>1</th>\n",
       "      <td>Project Hope (film)</td>\n",
       "      <td>min desktop</td>\n",
       "      <td>2015-08</td>\n",
       "      <td>31</td>\n",
       "    </tr>\n",
       "    <tr>\n",
       "      <th>2</th>\n",
       "      <td>Project Hope (film)</td>\n",
       "      <td>min desktop</td>\n",
       "      <td>2015-09</td>\n",
       "      <td>60</td>\n",
       "    </tr>\n",
       "    <tr>\n",
       "      <th>3</th>\n",
       "      <td>Project Hope (film)</td>\n",
       "      <td>min desktop</td>\n",
       "      <td>2015-10</td>\n",
       "      <td>56</td>\n",
       "    </tr>\n",
       "    <tr>\n",
       "      <th>4</th>\n",
       "      <td>Project Hope (film)</td>\n",
       "      <td>min desktop</td>\n",
       "      <td>2015-11</td>\n",
       "      <td>40</td>\n",
       "    </tr>\n",
       "    <tr>\n",
       "      <th>...</th>\n",
       "      <td>...</td>\n",
       "      <td>...</td>\n",
       "      <td>...</td>\n",
       "      <td>...</td>\n",
       "    </tr>\n",
       "    <tr>\n",
       "      <th>109</th>\n",
       "      <td>The Whale (2022 film)</td>\n",
       "      <td>max mobile</td>\n",
       "      <td>2023-05</td>\n",
       "      <td>194589</td>\n",
       "    </tr>\n",
       "    <tr>\n",
       "      <th>110</th>\n",
       "      <td>The Whale (2022 film)</td>\n",
       "      <td>max mobile</td>\n",
       "      <td>2023-06</td>\n",
       "      <td>210556</td>\n",
       "    </tr>\n",
       "    <tr>\n",
       "      <th>111</th>\n",
       "      <td>The Whale (2022 film)</td>\n",
       "      <td>max mobile</td>\n",
       "      <td>2023-07</td>\n",
       "      <td>167920</td>\n",
       "    </tr>\n",
       "    <tr>\n",
       "      <th>112</th>\n",
       "      <td>The Whale (2022 film)</td>\n",
       "      <td>max mobile</td>\n",
       "      <td>2023-08</td>\n",
       "      <td>192969</td>\n",
       "    </tr>\n",
       "    <tr>\n",
       "      <th>113</th>\n",
       "      <td>The Whale (2022 film)</td>\n",
       "      <td>max mobile</td>\n",
       "      <td>2023-09</td>\n",
       "      <td>173532</td>\n",
       "    </tr>\n",
       "  </tbody>\n",
       "</table>\n",
       "<p>276 rows × 4 columns</p>\n",
       "</div>"
      ],
      "text/plain": [
       "             article_title         kind     date  pageviews\n",
       "0      Project Hope (film)  min desktop  2015-07         56\n",
       "1      Project Hope (film)  min desktop  2015-08         31\n",
       "2      Project Hope (film)  min desktop  2015-09         60\n",
       "3      Project Hope (film)  min desktop  2015-10         56\n",
       "4      Project Hope (film)  min desktop  2015-11         40\n",
       "..                     ...          ...      ...        ...\n",
       "109  The Whale (2022 film)   max mobile  2023-05     194589\n",
       "110  The Whale (2022 film)   max mobile  2023-06     210556\n",
       "111  The Whale (2022 film)   max mobile  2023-07     167920\n",
       "112  The Whale (2022 film)   max mobile  2023-08     192969\n",
       "113  The Whale (2022 film)   max mobile  2023-09     173532\n",
       "\n",
       "[276 rows x 4 columns]"
      ]
     },
     "execution_count": 6,
     "metadata": {},
     "output_type": "execute_result"
    }
   ],
   "source": [
    "#Pulling desktop and mobile info\n",
    "min_desktop_name, max_desktop_name = min_max_articles(desktop_dict)\n",
    "#print(min_desktop_name, max_desktop_name)\n",
    "min_mobile_name, max_mobile_name = min_max_articles(mobile_dict)\n",
    "#print(min_mobile_name, max_mobile_name)\n",
    "\n",
    "#Generating dataframes with min and max desktop and mobile data respectively\n",
    "desktop_df = min_max_timeseries(desktop_dict, min_desktop_name, max_desktop_name, \"desktop\")\n",
    "mobile_df = min_max_timeseries(mobile_dict, min_mobile_name, max_mobile_name, \"mobile\")\n",
    "\n",
    "#Combining the dataframes together\n",
    "df_list = [desktop_df, mobile_df]\n",
    "min_max_avg_df = pd.concat(df_list)\n",
    "min_max_avg_df"
   ]
  },
  {
   "cell_type": "markdown",
   "id": "14edd38a",
   "metadata": {},
   "source": [
    "To make it clearer in our legend which article title represents which max/min desktop/mobile article, we are creating a \"legend\" column which combines the article name with its kind (e.g., max mobile)."
   ]
  },
  {
   "cell_type": "code",
   "execution_count": null,
   "id": "744239a9",
   "metadata": {},
   "outputs": [],
   "source": [
    "#Combining cols into new col\n",
    "min_max_avg_df['legend'] = min_max_avg_df['article_title']+\" (\"+min_max_avg_df['kind']+\")\"\n",
    "#min_max_avg_df"
   ]
  },
  {
   "cell_type": "markdown",
   "id": "107407d1",
   "metadata": {},
   "source": [
    "Now we will graph the timeseries data for the min and max desktop and mobile article views. We will use the Seaborn library with each article title as a line and its pageviews over time."
   ]
  },
  {
   "cell_type": "code",
   "execution_count": null,
   "id": "80fcf7dd",
   "metadata": {},
   "outputs": [],
   "source": [
    "#Creating Seaborn plot of multi-line timeseries\n",
    "fig = px.line(min_max_avg_df, x = 'date', y = 'pageviews', color = 'legend',\n",
    "             labels = {\n",
    "                 'date': 'Date',\n",
    "                 'pageviews': \"Total Monthly Pageviews\",\n",
    "                 'legend': \"Legend\"\n",
    "             },\n",
    "             title = \"Articles with Min and Max Avg. Monthly Pageviews on Desktop and Mobile\")\n",
    "fig.update_layout(font_size = 8,\n",
    "                    title=dict(font=dict(size=12)))\n",
    "fig.show()\n",
    "fig.write_image('../results/min_avg_max_avg.png')"
   ]
  },
  {
   "cell_type": "code",
   "execution_count": null,
   "id": "fb2e1eda",
   "metadata": {},
   "outputs": [],
   "source": []
  },
  {
   "cell_type": "code",
   "execution_count": null,
   "id": "2c59b30e",
   "metadata": {},
   "outputs": [],
   "source": []
  }
 ],
 "metadata": {
  "kernelspec": {
   "display_name": "Python 3 (ipykernel)",
   "language": "python",
   "name": "python3"
  },
  "language_info": {
   "codemirror_mode": {
    "name": "ipython",
    "version": 3
   },
   "file_extension": ".py",
   "mimetype": "text/x-python",
   "name": "python",
   "nbconvert_exporter": "python",
   "pygments_lexer": "ipython3",
   "version": "3.9.12"
  }
 },
 "nbformat": 4,
 "nbformat_minor": 5
}
