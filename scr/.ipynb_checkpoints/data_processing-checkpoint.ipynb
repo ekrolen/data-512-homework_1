{
 "cells": [
  {
   "cell_type": "markdown",
   "id": "5564c727",
   "metadata": {},
   "source": [
    "# Program Overview\n",
    "\n",
    "The purpose of this notebook is to process the raw data necessary to analyze monthly article traffic from English Wikipedia articles published 07-01-2015 through 09-30-2023.\n",
    "\n",
    "The source data comes from English Wikipedia, the text of which is licensed under \"Creative Commons Attribution Share-Alike license\" (https://en.wikipedia.org/wiki/Wikipedia:Text_of_the_Creative_Commons_Attribution-ShareAlike_3.0_Unported_License)"
   ]
  },
  {
   "cell_type": "markdown",
   "id": "761b6694",
   "metadata": {},
   "source": [
    "We will begin by reading in some basic Python libraries."
   ]
  },
  {
   "cell_type": "code",
   "execution_count": 100,
   "id": "dae4d05a",
   "metadata": {},
   "outputs": [],
   "source": [
    "#Import python libraries\n",
    "import json\n",
    "import time\n",
    "import urllib.parse\n",
    "import requests\n",
    "import pandas as pd"
   ]
  },
  {
   "cell_type": "markdown",
   "id": "b34e896f",
   "metadata": {},
   "source": [
    "## Create Monthly Desktop Access file\n",
    "\n",
    "This data file requires minimal processing - simply the removal of the \"access\" field from the raw data and a new file name. We will begin by reading in the data from our raw_data directory."
   ]
  },
  {
   "cell_type": "code",
   "execution_count": 101,
   "id": "20c699a2",
   "metadata": {},
   "outputs": [],
   "source": [
    "#Reading in the desktop access file\n",
    "desktop_file = open('../raw_data/desktop_pageviews.json')\n",
    " \n",
    "#Makes desktop_file a dictionary\n",
    "desktop_dict = json.load(desktop_file)"
   ]
  },
  {
   "cell_type": "markdown",
   "id": "980a15b4",
   "metadata": {},
   "source": [
    "Next, we will remove the \"access\" field from each of the value dictionaries in the desktop file."
   ]
  },
  {
   "cell_type": "code",
   "execution_count": 102,
   "id": "fe7b90bd",
   "metadata": {},
   "outputs": [],
   "source": [
    "#Iterate through each article title, then through each month to remove\n",
    "#\"access\"\n",
    "desktop_keys = list(desktop_dict.keys())\n",
    "for key in desktop_keys:\n",
    "    for month in desktop_dict[key]:\n",
    "        del month['access']"
   ]
  },
  {
   "cell_type": "markdown",
   "id": "1dcb11a6",
   "metadata": {},
   "source": [
    "Finally, we will save the dictionary as a JSON in the clean data folder."
   ]
  },
  {
   "cell_type": "code",
   "execution_count": 103,
   "id": "bc5de977",
   "metadata": {},
   "outputs": [],
   "source": [
    "#Saving the desktop_dict as a JSON\n",
    "desktop_json_object = json.dumps(desktop_dict, indent = 4) \n",
    "\n",
    "#Writing to the file\n",
    "with open('../clean_data/academy_monthly_desktop_201507-202309.json', 'w') as outfile:\n",
    "    outfile.write(desktop_json_object)"
   ]
  },
  {
   "cell_type": "markdown",
   "id": "e92182b8",
   "metadata": {},
   "source": [
    "## Create a fuction which combines the views in two JSON files\n",
    "\n",
    "To create the monthly mobile access file and monthly cumulative file we will need to sum the views across two files. We have created a function which does this to increase reusability of the code.\n",
    "\n",
    "The function first takes in two files which the user wants to combine views for. It then tests if they have the same keys. If the keys are the same, for each key, we look at each month of data. If the timestamps of the month match between the two input files, then we sum their views together. We add this information, along with project, article, granularity, timestamp, and agent information, to the combined dictionary (comb_dict) that we established in the function. The function ultimately returns the combined dictionary. Should the two input dictionaries have different keys or different timestamps/key, the function will print a message to the user asking them to input files with matching keys and/or matching timestamps/key."
   ]
  },
  {
   "cell_type": "code",
   "execution_count": 104,
   "id": "c25ebec6",
   "metadata": {},
   "outputs": [],
   "source": [
    "#Creating a method which sums the views between two files\n",
    "def view_combiner(file_1, file_2):\n",
    "    #Testing if the two files have the same keys\n",
    "    file_1_keys = list(file_1.keys())\n",
    "    file_2_keys = list(file_2.keys())\n",
    "    if file_1_keys == file_2_keys:\n",
    "        comb_dict = {}\n",
    "        for key in file_1_keys: #could have been either - they match\n",
    "            comb_dict[key] = []\n",
    "            for i in range(len(file_1[key])): #for each month\n",
    "                if file_1[key][i]['timestamp'] == file_2[key][i]['timestamp']:\n",
    "                    tot_views = file_1[key][i]['views'] + file_2[key][i]['views']\n",
    "                    comb_dict[key].append(\n",
    "                        {'project': file_1[key][i]['project'],\n",
    "                         'article': file_1[key][i]['article'],\n",
    "                         'granularity': file_1[key][i]['granularity'],\n",
    "                         'timestamp': file_1[key][i]['timestamp'],\n",
    "                         'agent': file_1[key][i]['agent'],\n",
    "                         'views': tot_views})\n",
    "                else:\n",
    "                    print(\"Please ensure both files have matching timestamps\"+\n",
    "                    \"for each of they array values for each of the keys\")\n",
    "    else:\n",
    "        print(\"Keys don't match - please ensure both files have matching\"+\n",
    "              \" keys\")\n",
    "    return comb_dict"
   ]
  },
  {
   "cell_type": "markdown",
   "id": "370fc9d0",
   "metadata": {},
   "source": [
    "## Create Monthly Mobile Access file\n",
    "\n",
    "This file requires more processing than the desktop file. We will begin similarly - by reading in the two mobile files from the raw_data directory and removing the \"access\" field from each of the value dictionaries."
   ]
  },
  {
   "cell_type": "code",
   "execution_count": 105,
   "id": "b5981558",
   "metadata": {},
   "outputs": [],
   "source": [
    "#Reading in the mobile_app and mobile_web files\n",
    "mobile_app_file = open('../raw_data/mobile_app_pageviews.json')\n",
    "mobile_web_file = open('../raw_data/mobile_web_pageviews.json')\n",
    " \n",
    "#Make the files into dictionaries\n",
    "mobile_app_dict = json.load(mobile_app_file)\n",
    "mobile_web_dict = json.load(mobile_web_file)\n",
    "\n",
    "#Iterate through each article title, then through each month to remove\n",
    "#\"access\"\n",
    "mobile_dict_list = [mobile_app_dict, mobile_web_dict]\n",
    "for mobile_dict in mobile_dict_list:\n",
    "    mobile_dict_keys = list(mobile_dict.keys())\n",
    "    for key in mobile_dict_keys:\n",
    "        for month in mobile_dict[key]:\n",
    "            del month['access']"
   ]
  },
  {
   "cell_type": "markdown",
   "id": "975fb03c",
   "metadata": {},
   "source": [
    "Next we need to combine views from mobile app pages and mobile web pages into a single mobile views dataset. We will do this by using the view_combiner function created earlier."
   ]
  },
  {
   "cell_type": "code",
   "execution_count": 106,
   "id": "1febd935",
   "metadata": {},
   "outputs": [],
   "source": [
    "#Combining the mobile views data\n",
    "mobile_dict = view_combiner(mobile_web_dict, mobile_app_dict)"
   ]
  },
  {
   "cell_type": "markdown",
   "id": "a74f4615",
   "metadata": {},
   "source": [
    "Finally, we will save the mobile_dict output to a JSON file."
   ]
  },
  {
   "cell_type": "code",
   "execution_count": 107,
   "id": "7aede365",
   "metadata": {},
   "outputs": [],
   "source": [
    "#Saving the mobile_dict as a JSON\n",
    "mobile_json_object = json.dumps(mobile_dict, indent = 4) \n",
    "\n",
    "#Writing to the file\n",
    "with open('../clean_data/academy_monthly_mobile_201507-202309.json', 'w') as outfile:\n",
    "    outfile.write(mobile_json_object)"
   ]
  },
  {
   "cell_type": "markdown",
   "id": "1766e455",
   "metadata": {},
   "source": [
    "## Create Monthly Cumulative Access file\n",
    "\n",
    "This file requires similar processing to the mobile access file. Because we have already removed the \"access\" fields from the mobile and desktop data, that step is not required here. We will proceed to using the view_combiner method written earlier in the code, and saving the output to the clean data folder."
   ]
  },
  {
   "cell_type": "code",
   "execution_count": 108,
   "id": "ab81ae48",
   "metadata": {},
   "outputs": [],
   "source": [
    "#Combining all views data\n",
    "combo_dict = view_combiner(mobile_dict, desktop_dict)\n",
    "\n",
    "#Saving the combined dict as a JSON\n",
    "combo_json_object = json.dumps(combo_dict, indent = 4) \n",
    "\n",
    "#Writing to the file\n",
    "with open('../clean_data/academy_monthly_cumulative_201507-202309.json', 'w') as outfile:\n",
    "    outfile.write(combo_json_object)"
   ]
  }
 ],
 "metadata": {
  "kernelspec": {
   "display_name": "Python 3 (ipykernel)",
   "language": "python",
   "name": "python3"
  },
  "language_info": {
   "codemirror_mode": {
    "name": "ipython",
    "version": 3
   },
   "file_extension": ".py",
   "mimetype": "text/x-python",
   "name": "python",
   "nbconvert_exporter": "python",
   "pygments_lexer": "ipython3",
   "version": "3.9.12"
  }
 },
 "nbformat": 4,
 "nbformat_minor": 5
}
