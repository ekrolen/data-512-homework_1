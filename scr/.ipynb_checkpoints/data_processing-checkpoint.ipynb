{
 "cells": [
  {
   "cell_type": "markdown",
   "id": "5564c727",
   "metadata": {},
   "source": [
    "# Program Overview\n",
    "\n",
    "The purpose of this notebook is to process the raw data necessary to analyze monthly article traffic from English Wikipedia articles published 07-01-2015 through 09-30-2023.\n",
    "\n",
    "The source data uses the following license:\n",
    "**EKRC INSERT LICENSE HERE"
   ]
  },
  {
   "cell_type": "markdown",
   "id": "4678c562",
   "metadata": {},
   "source": [
    "Things to do:\n",
    "    1. remove the \"Access\" fields from all of the dictionaries\n",
    "    2. Combine the mobile files to make the mobile file\n",
    "    3. Combine the mobile and desktop files to make the cumulative file"
   ]
  },
  {
   "cell_type": "markdown",
   "id": "761b6694",
   "metadata": {},
   "source": [
    "We will begin by reading in some basic Python libraries."
   ]
  },
  {
   "cell_type": "code",
   "execution_count": 2,
   "id": "dae4d05a",
   "metadata": {},
   "outputs": [],
   "source": [
    "#Import python libraries\n",
    "import json\n",
    "import time\n",
    "import urllib.parse\n",
    "import requests\n",
    "import pandas as pd"
   ]
  },
  {
   "cell_type": "markdown",
   "id": "b34e896f",
   "metadata": {},
   "source": [
    "## Create Monthly Desktop Access file\n",
    "\n",
    "This clean data file requires minimal processing - simply the removal of the \"access\" field from the raw data and a new file name. We will begin by reading in the data from our raw_data directory."
   ]
  },
  {
   "cell_type": "code",
   "execution_count": null,
   "id": "20c699a2",
   "metadata": {},
   "outputs": [],
   "source": [
    "#Reading in the desktop access file\n",
    "f = open('../raw_data/des_data.json')\n",
    " \n",
    "# returns JSON object as \n",
    "# a dictionary\n",
    "data = json.load(f)\n",
    " \n",
    "# Iterating through the json\n",
    "# list\n",
    "for i in data['emp_details']:\n",
    "    print(i)"
   ]
  },
  {
   "cell_type": "code",
   "execution_count": null,
   "id": "30942e26",
   "metadata": {},
   "outputs": [],
   "source": []
  },
  {
   "cell_type": "code",
   "execution_count": null,
   "id": "fe7b90bd",
   "metadata": {},
   "outputs": [],
   "source": []
  },
  {
   "cell_type": "code",
   "execution_count": null,
   "id": "4cbd9180",
   "metadata": {},
   "outputs": [],
   "source": []
  }
 ],
 "metadata": {
  "kernelspec": {
   "display_name": "Python 3 (ipykernel)",
   "language": "python",
   "name": "python3"
  },
  "language_info": {
   "codemirror_mode": {
    "name": "ipython",
    "version": 3
   },
   "file_extension": ".py",
   "mimetype": "text/x-python",
   "name": "python",
   "nbconvert_exporter": "python",
   "pygments_lexer": "ipython3",
   "version": "3.9.12"
  }
 },
 "nbformat": 4,
 "nbformat_minor": 5
}
