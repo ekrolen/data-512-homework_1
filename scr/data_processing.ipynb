{
 "cells": [
  {
   "cell_type": "markdown",
   "id": "5564c727",
   "metadata": {},
   "source": [
    "# Program Overview\n",
    "\n",
    "The purpose of this notebook is to process the raw data necessary to analyze monthly article traffic from English Wikipedia articles published 07-01-2015 through 09-30-2023.\n",
    "\n",
    "The source data uses the following license:\n",
    "**EKRC INSERT LICENSE HERE"
   ]
  },
  {
   "cell_type": "markdown",
   "id": "4678c562",
   "metadata": {},
   "source": [
    "Things to do:\n",
    "    1. remove the \"Access\" fields from all of the dictionaries\n",
    "    2. Combine the mobile files to make the mobile file\n",
    "    3. Combine the mobile and desktop files to make the cumulative file"
   ]
  },
  {
   "cell_type": "markdown",
   "id": "761b6694",
   "metadata": {},
   "source": [
    "We will begin by reading in some basic Python libraries."
   ]
  },
  {
   "cell_type": "code",
   "execution_count": 2,
   "id": "dae4d05a",
   "metadata": {},
   "outputs": [],
   "source": [
    "#Import python libraries\n",
    "import json\n",
    "import time\n",
    "import urllib.parse\n",
    "import requests\n",
    "import pandas as pd"
   ]
  },
  {
   "cell_type": "markdown",
   "id": "b34e896f",
   "metadata": {},
   "source": [
    "## Create Monthly Desktop Access file\n",
    "\n",
    "This clean data file requires minimal processing - simply the removal of the \"access\" field from the raw data and a new file name. We will begin by reading in the data from our raw_data directory."
   ]
  },
  {
   "cell_type": "code",
   "execution_count": 41,
   "id": "20c699a2",
   "metadata": {},
   "outputs": [],
   "source": [
    "#Reading in the desktop access file\n",
    "desktop_file = open('../raw_data/desktop_pageviews.json')\n",
    " \n",
    "#Makes desktop_file a dictionary\n",
    "desktop_dict = json.load(desktop_file)"
   ]
  },
  {
   "cell_type": "markdown",
   "id": "ba60f044",
   "metadata": {},
   "source": [
    "Next, we will remove the \"access\" field from each of the value dictionaries in the desktop file."
   ]
  },
  {
   "cell_type": "code",
   "execution_count": 42,
   "id": "fe7b90bd",
   "metadata": {},
   "outputs": [],
   "source": [
    "#Iterate through each article title, then through each month to remove\n",
    "#\"access\"\n",
    "desktop_keys = list(desktop_dict.keys())\n",
    "for key in desktop_keys:\n",
    "    for month in desktop_dict[key]:\n",
    "        del month['access']"
   ]
  },
  {
   "cell_type": "markdown",
   "id": "eaa20fa6",
   "metadata": {},
   "source": [
    "Finally, we will save the dictionary as a JSON in the clean data folder."
   ]
  },
  {
   "cell_type": "code",
   "execution_count": 31,
   "id": "7a02ab87",
   "metadata": {},
   "outputs": [
    {
     "ename": "AttributeError",
     "evalue": "'list' object has no attribute 'keys'",
     "output_type": "error",
     "traceback": [
      "\u001b[1;31m---------------------------------------------------------------------------\u001b[0m",
      "\u001b[1;31mAttributeError\u001b[0m                            Traceback (most recent call last)",
      "Input \u001b[1;32mIn [31]\u001b[0m, in \u001b[0;36m<cell line: 2>\u001b[1;34m()\u001b[0m\n\u001b[0;32m      1\u001b[0m copy \u001b[38;5;241m=\u001b[39m desktop_dict[\u001b[38;5;124m'\u001b[39m\u001b[38;5;124mEverything Everywhere All at Once\u001b[39m\u001b[38;5;124m'\u001b[39m]\n\u001b[1;32m----> 2\u001b[0m copy_keys \u001b[38;5;241m=\u001b[39m \u001b[38;5;28mlist\u001b[39m(\u001b[43mcopy\u001b[49m\u001b[38;5;241;43m.\u001b[39;49m\u001b[43mkeys\u001b[49m())\n\u001b[0;32m      3\u001b[0m \u001b[38;5;28;01mfor\u001b[39;00m key \u001b[38;5;129;01min\u001b[39;00m copy_keys:\n\u001b[0;32m      4\u001b[0m     \u001b[38;5;28mprint\u001b[39m(copy[key][\u001b[38;5;124m'\u001b[39m\u001b[38;5;124maccess\u001b[39m\u001b[38;5;124m'\u001b[39m])\n",
      "\u001b[1;31mAttributeError\u001b[0m: 'list' object has no attribute 'keys'"
     ]
    }
   ],
   "source": [
    "#Saving the desktop_dict as a JSON\n",
    "desktop_json_object = json.dumps(desktop_dict, indent = 4) \n",
    "\n",
    "#Writing to the file\n",
    "with open('../clean_data/academy_monthly_desktop_<start201507>-<end202309>.json', 'w') as outfile:\n",
    "    outfile.write(desktop_json_object)"
   ]
  },
  {
   "cell_type": "code",
   "execution_count": null,
   "id": "5303a551",
   "metadata": {},
   "outputs": [],
   "source": []
  }
 ],
 "metadata": {
  "kernelspec": {
   "display_name": "Python 3 (ipykernel)",
   "language": "python",
   "name": "python3"
  },
  "language_info": {
   "codemirror_mode": {
    "name": "ipython",
    "version": 3
   },
   "file_extension": ".py",
   "mimetype": "text/x-python",
   "name": "python",
   "nbconvert_exporter": "python",
   "pygments_lexer": "ipython3",
   "version": "3.9.12"
  }
 },
 "nbformat": 4,
 "nbformat_minor": 5
}
