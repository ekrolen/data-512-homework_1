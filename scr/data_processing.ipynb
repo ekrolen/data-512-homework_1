{
 "cells": [
  {
   "cell_type": "markdown",
   "id": "4678c562",
   "metadata": {},
   "source": [
    "Things to do:\n",
    "    1. remove the \"Access\" fields from all of the dictionaries\n",
    "    2. Combine the mobile files to make the mobile file\n",
    "    3. Combine the mobile and desktop files to make the cumulative file"
   ]
  }
 ],
 "metadata": {
  "kernelspec": {
   "display_name": "Python 3 (ipykernel)",
   "language": "python",
   "name": "python3"
  },
  "language_info": {
   "codemirror_mode": {
    "name": "ipython",
    "version": 3
   },
   "file_extension": ".py",
   "mimetype": "text/x-python",
   "name": "python",
   "nbconvert_exporter": "python",
   "pygments_lexer": "ipython3",
   "version": "3.9.12"
  }
 },
 "nbformat": 4,
 "nbformat_minor": 5
}
